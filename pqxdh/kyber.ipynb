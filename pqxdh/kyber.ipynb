{
 "cells": [
  {
   "cell_type": "markdown",
   "metadata": {},
   "source": [
    "Parameters and functions"
   ]
  },
  {
   "cell_type": "code",
   "execution_count": 21,
   "metadata": {},
   "outputs": [],
   "source": [
    "import numpy as np\n",
    "\n",
    "# Parameters\n",
    "n = 4\n",
    "k = 1\n",
    "q = 13\n",
    "\n",
    "def modular_mult(A, s):\n",
    "    \"\"\"Multiplies a matrix A by a scalar s modulo q.\"\"\"\n",
    "    return np.mod(A * s, q)\n",
    "\n",
    "def modular_add(A, B):\n",
    "    \"\"\"Adds two matrices A and B modulo q.\"\"\"\n",
    "    return np.mod(A + B, q)"
   ]
  },
  {
   "cell_type": "markdown",
   "metadata": {},
   "source": [
    "<img src=\"../media/keygen.png\" alt=\"keygen\" width=\"400\"/>"
   ]
  },
  {
   "cell_type": "code",
   "execution_count": 22,
   "metadata": {},
   "outputs": [
    {
     "name": "stdout",
     "output_type": "stream",
     "text": [
      "A:\n",
      " [[12  5  0  3]\n",
      " [11  3  7  9]\n",
      " [ 3  5  2  4]\n",
      " [ 7  6  8  8]]\n",
      "s:\n",
      " [[-1]\n",
      " [ 1]\n",
      " [ 0]\n",
      " [ 1]]\n",
      "e:\n",
      " [[ 1]\n",
      " [-1]\n",
      " [ 0]\n",
      " [ 0]]\n",
      "t:\n",
      " [[ 1  8  0 10]\n",
      " [11  3  7  9]\n",
      " [ 0  0  0  0]\n",
      " [ 7  6  8  8]]\n"
     ]
    }
   ],
   "source": [
    "## KeyGen (Alice)\n",
    "# A: Public key - Part 1\n",
    "np.random.seed(0)\n",
    "A = np.random.randint(q,size=(n, n)) # {0, 1, ..., q-1}\n",
    "print(\"A:\\n\", A)\n",
    "\n",
    "# s: Secret key\n",
    "s = np.random.randint(3, size=(n, 1)) - 1 # {-1, 0, 1}\n",
    "print(\"s:\\n\", s)\n",
    "\n",
    "# e: Noise vector\n",
    "e = np.random.randint(3, size=(n, 1)) - 1 # {-1, 0, 1}\n",
    "print(\"e:\\n\", e)\n",
    "\n",
    "# t: Public key - Part 2\n",
    "t = modular_mult(A,s)\n",
    "\n",
    "print(\"t:\\n\",t)"
   ]
  },
  {
   "cell_type": "markdown",
   "metadata": {},
   "source": [
    "<img src=\"../media/enc.png\" alt=\"keygen\" width=\"400\"/>"
   ]
  },
  {
   "cell_type": "code",
   "execution_count": 23,
   "metadata": {},
   "outputs": [
    {
     "name": "stdout",
     "output_type": "stream",
     "text": [
      "m:\n",
      " [0]\n",
      "u:\n",
      " [[12 12  0  1]\n",
      " [12 12  6  1]\n",
      " [12 12 11  1]\n",
      " [12 12  5  1]]\n",
      "v:\n",
      " [[12 12 12 12]\n",
      " [12 12  5 12]\n",
      " [12 12 12 12]\n",
      " [12 12  4 12]]\n"
     ]
    }
   ],
   "source": [
    "# Encryption (Bob)\n",
    "r  = np.random.randint(3, size=(n)) - 1 # {-1, 0, 1}\n",
    "e1 = np.random.randint(3, size=(n)) - 1 # {-1, 0, 1}\n",
    "e2 = np.random.randint(3, size=(1)) - 1 # {-1, 0, 1}\n",
    "m  = np.random.randint(2, size=(1))     # {0, 1}\n",
    "print(\"m:\\n\", m)\n",
    "\n",
    "u = modular_mult(r, A)\n",
    "u = modular_add(u, e1)\n",
    "print(\"u:\\n\", u)\n",
    "\n",
    "v = modular_mult(r, t)\n",
    "v = modular_add(v, e2)\n",
    "v = modular_add(v, m*((q+1)>>1))\n",
    "print(\"v:\\n\", v)"
   ]
  },
  {
   "cell_type": "markdown",
   "metadata": {},
   "source": [
    "<img src=\"../media/dec.png\" alt=\"keygen\" width=\"400\"/>"
   ]
  },
  {
   "cell_type": "code",
   "execution_count": null,
   "metadata": {},
   "outputs": [
    {
     "name": "stdout",
     "output_type": "stream",
     "text": [
      "f2:\n",
      " [[ 0  0 12 11]\n",
      " [11 11 11  0]\n",
      " [12 12 12 12]\n",
      " [11 11  9  0]]\n",
      "Type of f2[0]: <class 'numpy.ndarray'>\n",
      "Shape of f2[0]: (4,)\n",
      "First few values: [ 0  0 12 11]\n"
     ]
    }
   ],
   "source": [
    "# Decryption (Alice)\n",
    "f1 = modular_mult(u, s)\n",
    "f2 = modular_add(v, f1)\n",
    "print(\"f2:\\n\", f2)\n",
    "\n",
    "if(f2[0] > (q/4) and (f2[0] < (3*q/4))):\n",
    "    f2[0] = 1\n",
    "else:\n",
    "    f2[0] = 0\n",
    "print(f2[0]==m[0])\n"
   ]
  },
  {
   "cell_type": "markdown",
   "metadata": {},
   "source": [
    "Rest of the notes:  \n",
    "<img src=\"../media/rest.png\" alt=\"keygen\" width=\"600\"/>"
   ]
  },
  {
   "cell_type": "code",
   "execution_count": null,
   "metadata": {},
   "outputs": [
    {
     "ename": "NameError",
     "evalue": "name 'modular_mult' is not defined",
     "output_type": "error",
     "traceback": [
      "\u001b[31m---------------------------------------------------------------------------\u001b[39m",
      "\u001b[31mNameError\u001b[39m                                 Traceback (most recent call last)",
      "\u001b[36mCell\u001b[39m\u001b[36m \u001b[39m\u001b[32mIn[4]\u001b[39m\u001b[32m, line 1\u001b[39m\n\u001b[32m----> \u001b[39m\u001b[32m1\u001b[39m t = \u001b[43mmodular_mult\u001b[49m(A,s)\n\u001b[32m      2\u001b[39m t\n",
      "\u001b[31mNameError\u001b[39m: name 'modular_mult' is not defined"
     ]
    }
   ],
   "source": [
    "from hashlib import sha3_512, sha3_256\n",
    "\n",
    "def crypto_kem_keypair(init_seed):\n",
    "    buf = sha3_512(init_seed)\n",
    "    publicseed = get_nbit_from_m(buf, 32*8, 256)\n",
    "    noiseseed = get_nbit_from_m(buf, 32*8, 0)\n",
    "\n",
    "    A = gen_matrix(publicseed, 0) # 2 sets with 2 vectors of 256 coefficients\n",
    "    nonce = 0\n",
    "    skpv = {} # 2 vectors of 256 coefficients\n",
    "    e = {} # 2 vectors of 256 coefficients\n",
    "    pkpv = {}\n",
    "    for i in range(0, KYBER_K, 1):\n",
    "        skpv[i] = poly_getnoise(noiseseed, nonce)\n",
    "        nonce = nonce + 1\n",
    "\n",
    "    for i in range(0, KYBER_K, 1):\n",
    "        e[i] = poly_getnoise(noiseseed, nonce)\n",
    "        nonce = nonce + 1\n",
    "\n",
    "    for i in range(0, KYBER_K, 1):\n",
    "        fwd_NIT(skpv[i])\n",
    "\n",
    "    for i in range(0, KYBER_K, 1):\n",
    "        fwd_NIT(e[i])\n",
    "    \n",
    "    for i in range(0, KYBER_K, 1):\n",
    "        pkpv[i] = polyvec_pointwise_acc(A[i][:][:], skpv)\n",
    "\n",
    "    for i in range(0, KYBER_K, 1):\n",
    "        pkpv[i] = poly_add(pkpv[i], e[i])\n",
    "        pkpv[i] = poly_reduce(pkpv[i])\n",
    "\n",
    "    skpv_packed = {}\n",
    "    skpv_packed = pack_sk(skpv)\n",
    "\n",
    "    pkpv_packed = {}\n",
    "    pkpv_packed = pack_pk(pkpv, publicseed)\n",
    "\n",
    "    skpv_packed = skpv_packed + pkpv_packed + hex(sha3_256(int(pkpv_packed, 16)))[2:]\n",
    "\n",
    "    return (skpv_packed, pkpv_packed)"
   ]
  },
  {
   "cell_type": "code",
   "execution_count": null,
   "metadata": {},
   "outputs": [],
   "source": [
    "print(hex(init_seed))\n",
    "(sk, pk) = crypto_kem_keypair(init_seed)\n",
    "print(\"Secret Key: \", sk)\n",
    "print(\"Public Key: \", pk)"
   ]
  },
  {
   "cell_type": "code",
   "execution_count": null,
   "metadata": {},
   "outputs": [],
   "source": [
    "print(hex(enc_seed))\n",
    "\n",
    "buf1 = sha3_256(get_nbit_from_m(enc_seed, 32*8, 32*8))\n",
    "buf0 = sha3_256(int(pk, 16))\n",
    "buf = buf1 * 2 ** 256 + buf0\n",
    "kr_enc = sha3_512(buf)\n",
    "ct = crypto_kem_enc(pk, kr_enc, buf)\n",
    "\n",
    "kr_enc = sha3_512_32byte=hex(kr_enc)[2:66] # show the first 32 bytes\n",
    "ss_Bob = shake_256(int(kr_enc_32byte+hex(sha3_256(int(ct, 16)))[2:],16),32)\n",
    "\n",
    "print(hex(buf))\n",
    "print(hex(kr_enc))\n",
    "print(\"Cipher text: \", ct)\n",
    "hex(ss_Bob)"
   ]
  }
 ],
 "metadata": {
  "kernelspec": {
   "display_name": "Python 3",
   "language": "python",
   "name": "python3"
  },
  "language_info": {
   "codemirror_mode": {
    "name": "ipython",
    "version": 3
   },
   "file_extension": ".py",
   "mimetype": "text/x-python",
   "name": "python",
   "nbconvert_exporter": "python",
   "pygments_lexer": "ipython3",
   "version": "3.13.2"
  }
 },
 "nbformat": 4,
 "nbformat_minor": 2
}
